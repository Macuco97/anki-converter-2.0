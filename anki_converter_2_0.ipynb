{
  "nbformat": 4,
  "nbformat_minor": 0,
  "metadata": {
    "colab": {
      "provenance": [],
      "authorship_tag": "ABX9TyO7nYIufMas86j4A/YB/npc",
      "include_colab_link": true
    },
    "kernelspec": {
      "name": "python3",
      "display_name": "Python 3"
    },
    "language_info": {
      "name": "python"
    }
  },
  "cells": [
    {
      "cell_type": "markdown",
      "metadata": {
        "id": "view-in-github",
        "colab_type": "text"
      },
      "source": [
        "<a href=\"https://colab.research.google.com/github/Macuco97/anki-converter-2.0/blob/main/anki_converter_2_0.ipynb\" target=\"_parent\"><img src=\"https://colab.research.google.com/assets/colab-badge.svg\" alt=\"Open In Colab\"/></a>"
      ]
    },
    {
      "cell_type": "code",
      "source": [
        "!pip install pysrt\n",
        "!pip install moviepy"
      ],
      "metadata": {
        "id": "iI6K5T5kWmre",
        "colab": {
          "base_uri": "https://localhost:8080/"
        },
        "outputId": "b015578a-d457-4141-bc2a-719a1eb72872"
      },
      "execution_count": 102,
      "outputs": [
        {
          "output_type": "stream",
          "name": "stdout",
          "text": [
            "Looking in indexes: https://pypi.org/simple, https://us-python.pkg.dev/colab-wheels/public/simple/\n",
            "Requirement already satisfied: pysrt in /usr/local/lib/python3.9/dist-packages (1.1.2)\n",
            "Requirement already satisfied: chardet in /usr/local/lib/python3.9/dist-packages (from pysrt) (4.0.0)\n",
            "Looking in indexes: https://pypi.org/simple, https://us-python.pkg.dev/colab-wheels/public/simple/\n",
            "Requirement already satisfied: moviepy in /usr/local/lib/python3.9/dist-packages (1.0.3)\n",
            "Requirement already satisfied: imageio-ffmpeg>=0.2.0 in /usr/local/lib/python3.9/dist-packages (from moviepy) (0.4.8)\n",
            "Requirement already satisfied: decorator<5.0,>=4.0.2 in /usr/local/lib/python3.9/dist-packages (from moviepy) (4.4.2)\n",
            "Requirement already satisfied: numpy in /usr/local/lib/python3.9/dist-packages (from moviepy) (1.22.4)\n",
            "Requirement already satisfied: imageio<3.0,>=2.5 in /usr/local/lib/python3.9/dist-packages (from moviepy) (2.25.1)\n",
            "Requirement already satisfied: tqdm<5.0,>=4.11.2 in /usr/local/lib/python3.9/dist-packages (from moviepy) (4.65.0)\n",
            "Requirement already satisfied: requests<3.0,>=2.8.1 in /usr/local/lib/python3.9/dist-packages (from moviepy) (2.27.1)\n",
            "Requirement already satisfied: proglog<=1.0.0 in /usr/local/lib/python3.9/dist-packages (from moviepy) (0.1.10)\n",
            "Requirement already satisfied: pillow>=8.3.2 in /usr/local/lib/python3.9/dist-packages (from imageio<3.0,>=2.5->moviepy) (8.4.0)\n",
            "Requirement already satisfied: charset-normalizer~=2.0.0 in /usr/local/lib/python3.9/dist-packages (from requests<3.0,>=2.8.1->moviepy) (2.0.12)\n",
            "Requirement already satisfied: certifi>=2017.4.17 in /usr/local/lib/python3.9/dist-packages (from requests<3.0,>=2.8.1->moviepy) (2022.12.7)\n",
            "Requirement already satisfied: urllib3<1.27,>=1.21.1 in /usr/local/lib/python3.9/dist-packages (from requests<3.0,>=2.8.1->moviepy) (1.26.15)\n",
            "Requirement already satisfied: idna<4,>=2.5 in /usr/local/lib/python3.9/dist-packages (from requests<3.0,>=2.8.1->moviepy) (3.4)\n"
          ]
        }
      ]
    },
    {
      "cell_type": "code",
      "source": [
        "import pysrt\n",
        "import moviepy.editor as mp"
      ],
      "metadata": {
        "id": "Uvfiix-YqwnS"
      },
      "execution_count": null,
      "outputs": []
    },
    {
      "cell_type": "code",
      "execution_count": null,
      "metadata": {
        "colab": {
          "base_uri": "https://localhost:8080/"
        },
        "id": "Zd5RCtZBUAtd",
        "outputId": "973a00f2-37e1-4439-f0ac-c90567e78537"
      },
      "outputs": [
        {
          "output_type": "stream",
          "name": "stdout",
          "text": [
            "Mounted at /content/drive\n"
          ]
        }
      ],
      "source": [
        "from google.colab import drive\n",
        "drive.mount('/content/drive')"
      ]
    },
    {
      "cell_type": "code",
      "source": [
        "englishSubtitleURL = '/content/drive/My Drive/Legenda/Brooklyn.Nine-Nine_S01_english/Brooklyn_NineNine_S01E05.srt'\n",
        "portugueseSubTitleURL = '/content/drive/My Drive/Legenda/Brooklyn.Nine-Nine_S01_pt-br/Brooklyn_NineNine_S01E05_pt-br.srt'\n",
        "videoURL = '/content/drive/MyDrive/Legenda/Brooklyn Nine Nine Season 1 Complete 720p.Web.Dl.Sujaidr/brooklyn.nine.nine.s01e05.720p.web.dl.sujaidr.mkv'"
      ],
      "metadata": {
        "id": "FTyZOwh_VIk1"
      },
      "execution_count": null,
      "outputs": []
    },
    {
      "cell_type": "code",
      "source": [
        "# Open the SRT files\n",
        "subs_portuguese = pysrt.open(portugueseSubTitleURL)\n",
        "subs_english = pysrt.open(englishSubtitleURL)\n"
      ],
      "metadata": {
        "id": "WO0BJe6KqKo3"
      },
      "execution_count": null,
      "outputs": []
    },
    {
      "cell_type": "code",
      "source": [
        "# Combine the subtitles into a single SRT file\n",
        "subs_combined = []\n",
        "for i, sub_portuguese in enumerate(subs_portuguese):\n",
        "  sub_combined = sub_portuguese\n",
        "  print(type(subs_english[i].text))\n",
        "  sub_combined.text += \"\\n\" + subs_english[i].text\n",
        "  print(sub_combined)\n"
      ],
      "metadata": {
        "id": "Ry_JIAKwqc_a"
      },
      "execution_count": null,
      "outputs": []
    },
    {
      "cell_type": "code",
      "source": [
        "# Open the video file\n",
        "video = mp.VideoFileClip(videoURL)"
      ],
      "metadata": {
        "id": "Izlx1YGaqlR9"
      },
      "execution_count": null,
      "outputs": []
    },
    {
      "cell_type": "code",
      "source": [
        "# Cut the video into multiple clips based on the subtitle times\n",
        "clips = []\n",
        "for sub in subs_portuguese:\n",
        "    start_time = sub.start.to_time()\n",
        "    end_time = sub.end.to_time()\n",
        "    start_time = (start_time.hour * 3600 + start_time.minute * 60 + start_time.second) + (start_time.microsecond / 1000000)\n",
        "    end_time = (end_time.hour * 3600 + end_time.minute * 60 + end_time.second) + (end_time.microsecond / 1000000)\n",
        "\n",
        "    clip = video.subclip(start_time, end_time)\n",
        "    clips.append(clip)"
      ],
      "metadata": {
        "id": "gcrkU2GYq3ev"
      },
      "execution_count": null,
      "outputs": []
    },
    {
      "cell_type": "code",
      "source": [
        "# Export the clips as MP4 files\n",
        "for i, clip in enumerate(clips):\n",
        "    clip_name = f'/content/drive/MyDrive/Legenda/New Clips/clip{i}.mp4'\n",
        "    clip.write_videofile(clip_name, audio_codec='aac')"
      ],
      "metadata": {
        "id": "SD8_mvZorGdJ"
      },
      "execution_count": null,
      "outputs": []
    },
    {
      "cell_type": "code",
      "source": [
        "# Create the Anki-compatible file\n",
        "with open('/content/drive/MyDrive/Legenda/anki.txt', 'w', encoding='utf-8') as f:\n",
        "    for sub_portuguese, sub_combined in zip(subs_portuguese, subs_combined):\n",
        "        front = f'<video src=\"clip{sub_portuguese.index}.mp4\"/>\\n{sub_combined.text}'\n",
        "        back = sub_portuguese.text\n",
        "        f.write(f'{front} \\t{back}\\n')"
      ],
      "metadata": {
        "id": "51s8QSBlrL5C"
      },
      "execution_count": null,
      "outputs": []
    },
    {
      "cell_type": "markdown",
      "source": [],
      "metadata": {
        "id": "IvkSiFfP4zYd"
      }
    }
  ]
}