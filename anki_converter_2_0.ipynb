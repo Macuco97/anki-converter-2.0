{
  "nbformat": 4,
  "nbformat_minor": 0,
  "metadata": {
    "colab": {
      "provenance": [],
      "authorship_tag": "ABX9TyPSHsJem/XfuWFOnHAUDoPC",
      "include_colab_link": true
    },
    "kernelspec": {
      "name": "python3",
      "display_name": "Python 3"
    },
    "language_info": {
      "name": "python"
    }
  },
  "cells": [
    {
      "cell_type": "markdown",
      "metadata": {
        "id": "view-in-github",
        "colab_type": "text"
      },
      "source": [
        "<a href=\"https://colab.research.google.com/github/Macuco97/anki-converter-2.0/blob/main/anki_converter_2_0.ipynb\" target=\"_parent\"><img src=\"https://colab.research.google.com/assets/colab-badge.svg\" alt=\"Open In Colab\"/></a>"
      ]
    },
    {
      "cell_type": "code",
      "source": [
        "!pip install pysrt\n",
        "!pip install moviepy"
      ],
      "metadata": {
        "id": "iI6K5T5kWmre"
      },
      "execution_count": null,
      "outputs": []
    },
    {
      "cell_type": "code",
      "source": [
        "import pysrt\n",
        "import moviepy.editor as mp"
      ],
      "metadata": {
        "id": "Uvfiix-YqwnS"
      },
      "execution_count": null,
      "outputs": []
    },
    {
      "cell_type": "code",
      "execution_count": null,
      "metadata": {
        "colab": {
          "base_uri": "https://localhost:8080/"
        },
        "id": "Zd5RCtZBUAtd",
        "outputId": "973a00f2-37e1-4439-f0ac-c90567e78537"
      },
      "outputs": [
        {
          "output_type": "stream",
          "name": "stdout",
          "text": [
            "Mounted at /content/drive\n"
          ]
        }
      ],
      "source": [
        "from google.colab import drive\n",
        "drive.mount('/content/drive')"
      ]
    },
    {
      "cell_type": "code",
      "source": [
        "englishSubtitleURL = '/content/drive/My Drive/Legenda/Brooklyn.Nine-Nine_S01_english/Brooklyn_NineNine_S01E05.srt'\n",
        "videoURL = '/content/drive/MyDrive/Legenda/Brooklyn Nine Nine Season 1 Complete 720p.Web.Dl.Sujaidr/brooklyn.nine.nine.s01e05.720p.web.dl.sujaidr.mkv'"
      ],
      "metadata": {
        "id": "FTyZOwh_VIk1"
      },
      "execution_count": 111,
      "outputs": []
    },
    {
      "cell_type": "code",
      "source": [
        "# Open the SRT files\n",
        "subs_english = pysrt.open(englishSubtitleURL)\n"
      ],
      "metadata": {
        "id": "WO0BJe6KqKo3"
      },
      "execution_count": 116,
      "outputs": []
    },
    {
      "cell_type": "code",
      "source": [
        "# Open the video file\n",
        "video = mp.VideoFileClip(videoURL)"
      ],
      "metadata": {
        "id": "Izlx1YGaqlR9"
      },
      "execution_count": 109,
      "outputs": []
    },
    {
      "cell_type": "code",
      "source": [
        "# Cut the video into multiple clips based on the subtitle times\n",
        "clips = []\n",
        "for sub in subs_english:\n",
        "    start_time = sub.start.to_time()\n",
        "    end_time = sub.end.to_time()\n",
        "    start_time = (start_time.hour * 3600 + start_time.minute * 60 + start_time.second) + (start_time.microsecond / 1000000)\n",
        "    end_time = (end_time.hour * 3600 + end_time.minute * 60 + end_time.second) + (end_time.microsecond / 1000000)\n",
        "\n",
        "    clip = video.subclip(start_time, end_time)\n",
        "    clips.append(clip)"
      ],
      "metadata": {
        "id": "gcrkU2GYq3ev"
      },
      "execution_count": null,
      "outputs": []
    },
    {
      "cell_type": "code",
      "source": [
        "# Export the clips as MP4 files\n",
        "for i, clip in enumerate(clips):\n",
        "    clip_name = f'/content/drive/MyDrive/Legenda/New Clips/clip{i}.mp4'\n",
        "    clip.write_videofile(clip_name, audio_codec='aac')"
      ],
      "metadata": {
        "id": "SD8_mvZorGdJ"
      },
      "execution_count": null,
      "outputs": []
    },
    {
      "cell_type": "code",
      "source": [
        "# Create the Anki-compatible file\n",
        "print('The program get started')\n",
        "with open('/content/drive/MyDrive/Legenda/anki.txt', 'w', encoding='utf-8') as f:\n",
        "    for i,sub_english in enumerate(subs_english):\n",
        "        front = f'<video src=\"clip{sub_english.index}.mp4\"/>'\n",
        "        back = sub_english.text\n",
        "        print(front, back)\n",
        "        f.write(f'{front} \\t{back}\\n')"
      ],
      "metadata": {
        "id": "51s8QSBlrL5C"
      },
      "execution_count": null,
      "outputs": []
    },
    {
      "cell_type": "markdown",
      "source": [],
      "metadata": {
        "id": "IvkSiFfP4zYd"
      }
    }
  ]
}